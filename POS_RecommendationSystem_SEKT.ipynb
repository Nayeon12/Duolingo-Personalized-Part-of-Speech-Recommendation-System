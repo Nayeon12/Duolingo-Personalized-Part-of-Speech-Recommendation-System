{
  "cells": [
    {
      "cell_type": "code",
      "execution_count": null,
      "metadata": {
        "colab": {
          "base_uri": "https://localhost:8080/"
        },
        "id": "_u0uFv5C6bjT",
        "outputId": "5287e72d-4a91-442f-88b9-1f0689545ffc"
      },
      "outputs": [
        {
          "output_type": "stream",
          "name": "stdout",
          "text": [
            "Mounted at /content/drive\n"
          ]
        }
      ],
      "source": [
        "from google.colab import drive\n",
        "drive.mount('/content/drive')"
      ]
    },
    {
      "cell_type": "code",
      "execution_count": null,
      "metadata": {
        "colab": {
          "base_uri": "https://localhost:8080/"
        },
        "id": "qYs3eQKN6-Bk",
        "outputId": "5589a1e4-7bef-4097-fb4e-c852d7d82976"
      },
      "outputs": [
        {
          "output_type": "stream",
          "name": "stdout",
          "text": [
            "python:  3.7.13 (default, Apr 24 2022, 01:04:09) \n",
            "[GCC 7.5.0]\n",
            "pytorch:  1.11.0+cu113\n",
            "numpy :  1.21.6\n",
            "pandas :  1.3.5\n"
          ]
        }
      ],
      "source": [
        "import sys\n",
        "import torch\n",
        "import numpy as np\n",
        "import pandas as pd\n",
        "import random \n",
        "#import sklearn\n",
        "print(\"python: \",sys.version)\n",
        "print(\"pytorch: \", torch.__version__)\n",
        "print(\"numpy : \", np.__version__)\n",
        "print(\"pandas : \", pd.__version__)\n",
        "#print(\"sklearn : \", sklearn.__version__)"
      ]
    },
    {
      "cell_type": "code",
      "execution_count": null,
      "metadata": {
        "colab": {
          "base_uri": "https://localhost:8080/"
        },
        "id": "bR1-XcmSk91_",
        "outputId": "22de1d92-29f0-4f04-acc2-b3ae8fdf7f54"
      },
      "outputs": [
        {
          "output_type": "stream",
          "name": "stdout",
          "text": [
            "/content/drive/MyDrive/Duolingo-Knowledge-Tracing\n"
          ]
        }
      ],
      "source": [
        "%cd drive/MyDrive/Duolingo-Knowledge-Tracing"
      ]
    },
    {
      "cell_type": "code",
      "execution_count": null,
      "metadata": {
        "id": "XHKHnm2_DBfs"
      },
      "outputs": [],
      "source": [
        "import SEKTInference"
      ]
    },
    {
      "cell_type": "markdown",
      "source": [
        "## 실시간으로 가장 높은 성취도파급효과 불러오는 문장 추천하기"
      ],
      "metadata": {
        "id": "rklcMTTOpsEb"
      }
    },
    {
      "cell_type": "markdown",
      "source": [
        "실시간으로 넣을 문장 목록들 준비하기 (단어 + 품사 필수)"
      ],
      "metadata": {
        "id": "fqveXBILpyHG"
      }
    },
    {
      "cell_type": "code",
      "source": [
        "df = pd.read_csv('data/train_data.csv')"
      ],
      "metadata": {
        "id": "XmzElbxio0wf"
      },
      "execution_count": null,
      "outputs": []
    },
    {
      "cell_type": "code",
      "source": [
        "sen_list = []\n",
        "pos_list = []"
      ],
      "metadata": {
        "id": "OCCqelL3u2yx"
      },
      "execution_count": null,
      "outputs": []
    },
    {
      "cell_type": "code",
      "source": [
        "# 약1분소요\n",
        "sen = []\n",
        "pos = []\n",
        "for i in range(len(df)):\n",
        "  if(i > 0 and df['split'][i] != df['split'][i-1]):\n",
        "    sen_list.append(sen)\n",
        "    pos_list.append(pos)\n",
        "    sen = []\n",
        "    pos = []\n",
        "\n",
        "  sen.append(df['word'][i])\n",
        "  pos.append(df['pos'][i])"
      ],
      "metadata": {
        "id": "BdnkqDFYuV7o"
      },
      "execution_count": null,
      "outputs": []
    },
    {
      "cell_type": "code",
      "source": [
        "sentence_examples = []\n",
        "part_of_speech = []"
      ],
      "metadata": {
        "id": "AWmL8uki3SgT"
      },
      "execution_count": null,
      "outputs": []
    },
    {
      "cell_type": "code",
      "source": [
        "save = []\n",
        "for idx,pos in enumerate(pos_list):\n",
        "  if(save.count(pos) == 0):\n",
        "    save.append(pos)\n",
        "    sentence_examples.append(sen_list[idx])\n",
        "    part_of_speech.append(pos_list[idx])"
      ],
      "metadata": {
        "id": "2gTotY4NxYEh"
      },
      "execution_count": null,
      "outputs": []
    },
    {
      "cell_type": "code",
      "source": [
        "sentence_examples[0]"
      ],
      "metadata": {
        "colab": {
          "base_uri": "https://localhost:8080/"
        },
        "id": "2otsvXeF3vU_",
        "outputId": "5b7f32cb-b082-498a-fc2e-a31df197a498"
      },
      "execution_count": null,
      "outputs": [
        {
          "output_type": "execute_result",
          "data": {
            "text/plain": [
              "['I', 'am', 'a', 'boy']"
            ]
          },
          "metadata": {},
          "execution_count": 14
        }
      ]
    },
    {
      "cell_type": "code",
      "source": [
        "part_of_speech[0]"
      ],
      "metadata": {
        "colab": {
          "base_uri": "https://localhost:8080/"
        },
        "id": "XGMG_Wol3x0K",
        "outputId": "18d5b4b3-4a36-409d-e42f-3c6bbbe485ae"
      },
      "execution_count": null,
      "outputs": [
        {
          "output_type": "execute_result",
          "data": {
            "text/plain": [
              "['PRON', 'VERB', 'DET', 'NOUN']"
            ]
          },
          "metadata": {},
          "execution_count": 15
        }
      ]
    },
    {
      "cell_type": "markdown",
      "source": [
        "기존데이터에 문장 목록들 모두 넣어보고 가장 큰확률변화 일으키는 문장 파악"
      ],
      "metadata": {
        "id": "wGZFQuYxp8lj"
      }
    },
    {
      "cell_type": "code",
      "source": [
        "## user의 베이스 데이터 축적\n",
        "userdata = pd.read_csv('data/user.csv')\n",
        "userdata"
      ],
      "metadata": {
        "colab": {
          "base_uri": "https://localhost:8080/",
          "height": 500
        },
        "id": "1MVnTQlf6u64",
        "outputId": "2d5bfca4-15b1-4ed3-8875-946a10c98275"
      },
      "execution_count": null,
      "outputs": [
        {
          "output_type": "execute_result",
          "data": {
            "text/plain": [
              "   Unnamed: 0      user          code    word    pos  time  correct   days  \\\n",
              "0           0  XEinXf5+  DRihrVmh0101       I   PRON   9.0        0  0.003   \n",
              "1           1  XEinXf5+  DRihrVmh0102      am   VERB   9.0        1  0.003   \n",
              "2           2  XEinXf5+  DRihrVmh0103       a    DET   9.0        1  0.003   \n",
              "3           3  XEinXf5+  DRihrVmh0104     boy   NOUN   9.0        0  0.003   \n",
              "4           4  XEinXf5+  TOeLHxLS0101       I   PRON  12.0        1  0.005   \n",
              "5           5  XEinXf5+  TOeLHxLS0102      am   VERB  12.0        1  0.005   \n",
              "6           6  XEinXf5+  TOeLHxLS0103    from    ADP  12.0        1  0.005   \n",
              "7           7  XEinXf5+  TOeLHxLS0104  Mexico  PROPN  12.0        0  0.005   \n",
              "\n",
              "   split  token_count         pos_set                    poss  \\\n",
              "0      0            4     0-PRON-VERB    PRONVERBDETNOUN-PRON   \n",
              "1      0            4   PRON-VERB-DET    PRONVERBDETNOUN-VERB   \n",
              "2      0            4   VERB-DET-NOUN     PRONVERBDETNOUN-DET   \n",
              "3      0            4      DET-NOUN-0    PRONVERBDETNOUN-NOUN   \n",
              "4      1            4     0-PRON-VERB   PRONVERBADPPROPN-PRON   \n",
              "5      1            4   PRON-VERB-ADP   PRONVERBADPPROPN-VERB   \n",
              "6      1            4  VERB-ADP-PROPN    PRONVERBADPPROPN-ADP   \n",
              "7      1            4     ADP-PROPN-0  PRONVERBADPPROPN-PROPN   \n",
              "\n",
              "            sen_pos  sen_correct  \n",
              "0   PRONVERBDETNOUN            1  \n",
              "1   PRONVERBDETNOUN            1  \n",
              "2   PRONVERBDETNOUN            1  \n",
              "3   PRONVERBDETNOUN            1  \n",
              "4  PRONVERBADPPROPN            1  \n",
              "5  PRONVERBADPPROPN            1  \n",
              "6  PRONVERBADPPROPN            1  \n",
              "7  PRONVERBADPPROPN            1  "
            ],
            "text/html": [
              "\n",
              "  <div id=\"df-81a893bb-894e-44b0-a5b8-512b1bd32ac3\">\n",
              "    <div class=\"colab-df-container\">\n",
              "      <div>\n",
              "<style scoped>\n",
              "    .dataframe tbody tr th:only-of-type {\n",
              "        vertical-align: middle;\n",
              "    }\n",
              "\n",
              "    .dataframe tbody tr th {\n",
              "        vertical-align: top;\n",
              "    }\n",
              "\n",
              "    .dataframe thead th {\n",
              "        text-align: right;\n",
              "    }\n",
              "</style>\n",
              "<table border=\"1\" class=\"dataframe\">\n",
              "  <thead>\n",
              "    <tr style=\"text-align: right;\">\n",
              "      <th></th>\n",
              "      <th>Unnamed: 0</th>\n",
              "      <th>user</th>\n",
              "      <th>code</th>\n",
              "      <th>word</th>\n",
              "      <th>pos</th>\n",
              "      <th>time</th>\n",
              "      <th>correct</th>\n",
              "      <th>days</th>\n",
              "      <th>split</th>\n",
              "      <th>token_count</th>\n",
              "      <th>pos_set</th>\n",
              "      <th>poss</th>\n",
              "      <th>sen_pos</th>\n",
              "      <th>sen_correct</th>\n",
              "    </tr>\n",
              "  </thead>\n",
              "  <tbody>\n",
              "    <tr>\n",
              "      <th>0</th>\n",
              "      <td>0</td>\n",
              "      <td>XEinXf5+</td>\n",
              "      <td>DRihrVmh0101</td>\n",
              "      <td>I</td>\n",
              "      <td>PRON</td>\n",
              "      <td>9.0</td>\n",
              "      <td>0</td>\n",
              "      <td>0.003</td>\n",
              "      <td>0</td>\n",
              "      <td>4</td>\n",
              "      <td>0-PRON-VERB</td>\n",
              "      <td>PRONVERBDETNOUN-PRON</td>\n",
              "      <td>PRONVERBDETNOUN</td>\n",
              "      <td>1</td>\n",
              "    </tr>\n",
              "    <tr>\n",
              "      <th>1</th>\n",
              "      <td>1</td>\n",
              "      <td>XEinXf5+</td>\n",
              "      <td>DRihrVmh0102</td>\n",
              "      <td>am</td>\n",
              "      <td>VERB</td>\n",
              "      <td>9.0</td>\n",
              "      <td>1</td>\n",
              "      <td>0.003</td>\n",
              "      <td>0</td>\n",
              "      <td>4</td>\n",
              "      <td>PRON-VERB-DET</td>\n",
              "      <td>PRONVERBDETNOUN-VERB</td>\n",
              "      <td>PRONVERBDETNOUN</td>\n",
              "      <td>1</td>\n",
              "    </tr>\n",
              "    <tr>\n",
              "      <th>2</th>\n",
              "      <td>2</td>\n",
              "      <td>XEinXf5+</td>\n",
              "      <td>DRihrVmh0103</td>\n",
              "      <td>a</td>\n",
              "      <td>DET</td>\n",
              "      <td>9.0</td>\n",
              "      <td>1</td>\n",
              "      <td>0.003</td>\n",
              "      <td>0</td>\n",
              "      <td>4</td>\n",
              "      <td>VERB-DET-NOUN</td>\n",
              "      <td>PRONVERBDETNOUN-DET</td>\n",
              "      <td>PRONVERBDETNOUN</td>\n",
              "      <td>1</td>\n",
              "    </tr>\n",
              "    <tr>\n",
              "      <th>3</th>\n",
              "      <td>3</td>\n",
              "      <td>XEinXf5+</td>\n",
              "      <td>DRihrVmh0104</td>\n",
              "      <td>boy</td>\n",
              "      <td>NOUN</td>\n",
              "      <td>9.0</td>\n",
              "      <td>0</td>\n",
              "      <td>0.003</td>\n",
              "      <td>0</td>\n",
              "      <td>4</td>\n",
              "      <td>DET-NOUN-0</td>\n",
              "      <td>PRONVERBDETNOUN-NOUN</td>\n",
              "      <td>PRONVERBDETNOUN</td>\n",
              "      <td>1</td>\n",
              "    </tr>\n",
              "    <tr>\n",
              "      <th>4</th>\n",
              "      <td>4</td>\n",
              "      <td>XEinXf5+</td>\n",
              "      <td>TOeLHxLS0101</td>\n",
              "      <td>I</td>\n",
              "      <td>PRON</td>\n",
              "      <td>12.0</td>\n",
              "      <td>1</td>\n",
              "      <td>0.005</td>\n",
              "      <td>1</td>\n",
              "      <td>4</td>\n",
              "      <td>0-PRON-VERB</td>\n",
              "      <td>PRONVERBADPPROPN-PRON</td>\n",
              "      <td>PRONVERBADPPROPN</td>\n",
              "      <td>1</td>\n",
              "    </tr>\n",
              "    <tr>\n",
              "      <th>5</th>\n",
              "      <td>5</td>\n",
              "      <td>XEinXf5+</td>\n",
              "      <td>TOeLHxLS0102</td>\n",
              "      <td>am</td>\n",
              "      <td>VERB</td>\n",
              "      <td>12.0</td>\n",
              "      <td>1</td>\n",
              "      <td>0.005</td>\n",
              "      <td>1</td>\n",
              "      <td>4</td>\n",
              "      <td>PRON-VERB-ADP</td>\n",
              "      <td>PRONVERBADPPROPN-VERB</td>\n",
              "      <td>PRONVERBADPPROPN</td>\n",
              "      <td>1</td>\n",
              "    </tr>\n",
              "    <tr>\n",
              "      <th>6</th>\n",
              "      <td>6</td>\n",
              "      <td>XEinXf5+</td>\n",
              "      <td>TOeLHxLS0103</td>\n",
              "      <td>from</td>\n",
              "      <td>ADP</td>\n",
              "      <td>12.0</td>\n",
              "      <td>1</td>\n",
              "      <td>0.005</td>\n",
              "      <td>1</td>\n",
              "      <td>4</td>\n",
              "      <td>VERB-ADP-PROPN</td>\n",
              "      <td>PRONVERBADPPROPN-ADP</td>\n",
              "      <td>PRONVERBADPPROPN</td>\n",
              "      <td>1</td>\n",
              "    </tr>\n",
              "    <tr>\n",
              "      <th>7</th>\n",
              "      <td>7</td>\n",
              "      <td>XEinXf5+</td>\n",
              "      <td>TOeLHxLS0104</td>\n",
              "      <td>Mexico</td>\n",
              "      <td>PROPN</td>\n",
              "      <td>12.0</td>\n",
              "      <td>0</td>\n",
              "      <td>0.005</td>\n",
              "      <td>1</td>\n",
              "      <td>4</td>\n",
              "      <td>ADP-PROPN-0</td>\n",
              "      <td>PRONVERBADPPROPN-PROPN</td>\n",
              "      <td>PRONVERBADPPROPN</td>\n",
              "      <td>1</td>\n",
              "    </tr>\n",
              "  </tbody>\n",
              "</table>\n",
              "</div>\n",
              "      <button class=\"colab-df-convert\" onclick=\"convertToInteractive('df-81a893bb-894e-44b0-a5b8-512b1bd32ac3')\"\n",
              "              title=\"Convert this dataframe to an interactive table.\"\n",
              "              style=\"display:none;\">\n",
              "        \n",
              "  <svg xmlns=\"http://www.w3.org/2000/svg\" height=\"24px\"viewBox=\"0 0 24 24\"\n",
              "       width=\"24px\">\n",
              "    <path d=\"M0 0h24v24H0V0z\" fill=\"none\"/>\n",
              "    <path d=\"M18.56 5.44l.94 2.06.94-2.06 2.06-.94-2.06-.94-.94-2.06-.94 2.06-2.06.94zm-11 1L8.5 8.5l.94-2.06 2.06-.94-2.06-.94L8.5 2.5l-.94 2.06-2.06.94zm10 10l.94 2.06.94-2.06 2.06-.94-2.06-.94-.94-2.06-.94 2.06-2.06.94z\"/><path d=\"M17.41 7.96l-1.37-1.37c-.4-.4-.92-.59-1.43-.59-.52 0-1.04.2-1.43.59L10.3 9.45l-7.72 7.72c-.78.78-.78 2.05 0 2.83L4 21.41c.39.39.9.59 1.41.59.51 0 1.02-.2 1.41-.59l7.78-7.78 2.81-2.81c.8-.78.8-2.07 0-2.86zM5.41 20L4 18.59l7.72-7.72 1.47 1.35L5.41 20z\"/>\n",
              "  </svg>\n",
              "      </button>\n",
              "      \n",
              "  <style>\n",
              "    .colab-df-container {\n",
              "      display:flex;\n",
              "      flex-wrap:wrap;\n",
              "      gap: 12px;\n",
              "    }\n",
              "\n",
              "    .colab-df-convert {\n",
              "      background-color: #E8F0FE;\n",
              "      border: none;\n",
              "      border-radius: 50%;\n",
              "      cursor: pointer;\n",
              "      display: none;\n",
              "      fill: #1967D2;\n",
              "      height: 32px;\n",
              "      padding: 0 0 0 0;\n",
              "      width: 32px;\n",
              "    }\n",
              "\n",
              "    .colab-df-convert:hover {\n",
              "      background-color: #E2EBFA;\n",
              "      box-shadow: 0px 1px 2px rgba(60, 64, 67, 0.3), 0px 1px 3px 1px rgba(60, 64, 67, 0.15);\n",
              "      fill: #174EA6;\n",
              "    }\n",
              "\n",
              "    [theme=dark] .colab-df-convert {\n",
              "      background-color: #3B4455;\n",
              "      fill: #D2E3FC;\n",
              "    }\n",
              "\n",
              "    [theme=dark] .colab-df-convert:hover {\n",
              "      background-color: #434B5C;\n",
              "      box-shadow: 0px 1px 3px 1px rgba(0, 0, 0, 0.15);\n",
              "      filter: drop-shadow(0px 1px 2px rgba(0, 0, 0, 0.3));\n",
              "      fill: #FFFFFF;\n",
              "    }\n",
              "  </style>\n",
              "\n",
              "      <script>\n",
              "        const buttonEl =\n",
              "          document.querySelector('#df-81a893bb-894e-44b0-a5b8-512b1bd32ac3 button.colab-df-convert');\n",
              "        buttonEl.style.display =\n",
              "          google.colab.kernel.accessAllowed ? 'block' : 'none';\n",
              "\n",
              "        async function convertToInteractive(key) {\n",
              "          const element = document.querySelector('#df-81a893bb-894e-44b0-a5b8-512b1bd32ac3');\n",
              "          const dataTable =\n",
              "            await google.colab.kernel.invokeFunction('convertToInteractive',\n",
              "                                                     [key], {});\n",
              "          if (!dataTable) return;\n",
              "\n",
              "          const docLinkHtml = 'Like what you see? Visit the ' +\n",
              "            '<a target=\"_blank\" href=https://colab.research.google.com/notebooks/data_table.ipynb>data table notebook</a>'\n",
              "            + ' to learn more about interactive tables.';\n",
              "          element.innerHTML = '';\n",
              "          dataTable['output_type'] = 'display_data';\n",
              "          await google.colab.output.renderOutput(dataTable, element);\n",
              "          const docLink = document.createElement('div');\n",
              "          docLink.innerHTML = docLinkHtml;\n",
              "          element.appendChild(docLink);\n",
              "        }\n",
              "      </script>\n",
              "    </div>\n",
              "  </div>\n",
              "  "
            ]
          },
          "metadata": {},
          "execution_count": 16
        }
      ]
    },
    {
      "cell_type": "markdown",
      "source": [
        "## 추천 모듈화"
      ],
      "metadata": {
        "id": "mBVeJY3Oaw6z"
      }
    },
    {
      "cell_type": "code",
      "source": [
        "for rcount in range(5):\n",
        "  print(rcount+1,\"번째 추천\")\n",
        "  rand_idx = random.sample(range(len(part_of_speech)), 10)\n",
        "  sentence_examples_10 = []\n",
        "  part_of_speech_10 = []\n",
        "  for i in rand_idx:\n",
        "    sentence_examples_10.append(sentence_examples[i])\n",
        "    part_of_speech_10.append(part_of_speech[i])\n",
        "  ## 모든 문장 한번씩 넣어보기 ## 3분소요\n",
        "  max_effect_prob = 0\n",
        "  if(rcount == 0):\n",
        "    for i in range(10): #len(sentence_examples)\n",
        "      ## userdata의 평균확률\n",
        "      userdata_list = userdata.values.tolist()\n",
        "      userseq = import_file.DKTDef.test(100, userdata_list)\n",
        "      orig_prob = import_file.DKTDef.inference(userseq)\n",
        "\n",
        "      if(i==0):\n",
        "        print(\"현재성취도: \", orig_prob)\n",
        "\n",
        "      for j in range(len(sentence_examples_10[i])):\n",
        "        input_sentence = {'word': sentence_examples_10[i][j], 'pos': part_of_speech_10[i][j], 'correct': 1, 'sen_pos': \"\".join(part_of_speech_10[i]), 'sen_correct': 1}\n",
        "        if(j > 0):\n",
        "          recomdata = recomdata.append(input_sentence, ignore_index=True)\n",
        "        else:\n",
        "          recomdata = userdata.append(input_sentence, ignore_index=True)\n",
        "      \n",
        "      ## recomdata의 평균확률\n",
        "      recomdata = recomdata.values.tolist()\n",
        "      recommend_seq = import_file.DKTDef.test(100, recomdata)\n",
        "      recommend_prob = import_file.DKTDef.inference(recommend_seq)\n",
        "\n",
        "      ## recomdata - userdata 차이\n",
        "      effect_prob = recommend_prob - orig_prob\n",
        "      if(effect_prob > max_effect_prob):\n",
        "        max_effect_prob = effect_prob\n",
        "        best_string = sentence_examples_10[i]\n",
        "        best_string_pos = part_of_speech_10[i]\n",
        "\n",
        "    from googletrans import Translator\n",
        "    translator = Translator()\n",
        "    a = translator.translate(' '.join(best_string), src='en', dest='ko')\n",
        "    correct_list = []\n",
        "    print(\"==아래문장을 작문하세요==\")\n",
        "    print(\"(예상 상승 성취도 : \", max_effect_prob, \"%)\")\n",
        "    print(a.text)\n",
        "    print(\"==단어 개수에 맞춰 하나씩 입력하세요==\")\n",
        "    for i in range(len(best_string)):\n",
        "      print(\"[____]\", end=' ')\n",
        "    print()\n",
        "    for str_ in best_string:\n",
        "      wordinput = str(input())\n",
        "      if(wordinput == str_):\n",
        "        correct_list.append(1)\n",
        "      else:\n",
        "        correct_list.append(0)\n",
        "    print(\"정답: \", ' '.join(best_string))\n",
        "    print()\n",
        "\n",
        "  else:\n",
        "    max_effect_prob = 0\n",
        "    for r in range(len(correct_list)):\n",
        "        input_sentence = {'word': best_string[r], 'pos': best_string_pos[r], 'correct': correct_list[r], 'sen_pos': \"\".join(best_string_pos), 'sen_correct': 1}\n",
        "        if(r > 0):\n",
        "          userdata_new = userdata_new.append(input_sentence, ignore_index=True)\n",
        "        else:\n",
        "          userdata_new = userdata.append(input_sentence, ignore_index=True)\n",
        "\n",
        "    for i in range(10): #len(sentence_examples)\n",
        "      ## userdata + 추천문장의 평균확률\n",
        "      userdata_list = userdata_new.values.tolist()\n",
        "      userseq = import_file.DKTDef.test(100, userdata_list)\n",
        "      prob = import_file.DKTDef.inference(userseq)\n",
        "      if(i==0):\n",
        "        print(\"현재성취도: \", prob)\n",
        "\n",
        "      for j in range(len(sentence_examples_10[i])):\n",
        "        input_sentence = {'word': sentence_examples_10[i][j], 'pos': part_of_speech_10[i][j], 'correct': 1, 'sen_pos': \"\".join(part_of_speech_10[i]), 'sen_correct': 1}\n",
        "        if(j > 0):\n",
        "          recomdata = recomdata.append(input_sentence, ignore_index=True)\n",
        "        else:\n",
        "          recomdata = userdata_new.append(input_sentence, ignore_index=True)\n",
        "\n",
        "      ## recomdata의 평균확률\n",
        "      recomdata = recomdata.values.tolist()\n",
        "      recommend_seq = import_file.DKTDef.test(100, recomdata)\n",
        "      recommend_prob = import_file.DKTDef.inference(recommend_seq)\n",
        "      ## recomdata - userdata 차이\n",
        "      effect_prob = recommend_prob - prob\n",
        "      if(effect_prob > max_effect_prob):\n",
        "        max_effect_prob = effect_prob\n",
        "        best_string = sentence_examples_10[i]\n",
        "        best_string_pos = part_of_speech_10[i]\n",
        "\n",
        "    translator = Translator()\n",
        "    a = translator.translate(' '.join(best_string), src='en', dest='ko')\n",
        "    correct_list = []\n",
        "    print(\"==아래문장을 작문하세요==\")\n",
        "    print(\"(예상 상승 성취도 : \", max_effect_prob, \"%)\")\n",
        "    print(a.text)\n",
        "    print(\"==단어 개수에 맞춰 하나씩 입력하세요==\")\n",
        "    for i in range(len(best_string)):\n",
        "      print(\"[____]\", end=' ')\n",
        "    print()\n",
        "    for str_ in best_string:\n",
        "      wordinput = str(input())\n",
        "      if(wordinput == str_):\n",
        "        correct_list.append(1)\n",
        "      else:\n",
        "        correct_list.append(0)\n",
        "    print(\"정답: \", ' '.join(best_string))\n",
        "    print()\n",
        "\n",
        "## 추천문제 풀이후 변화 성취도\n",
        "print()\n",
        "print(\"==추천문장 풀이후 성취도 변화==\")\n",
        "for r in range(len(correct_list)):\n",
        "    input_sentence = {'word': best_string[r], 'pos': best_string_pos[r], 'correct': correct_list[r], 'sen_pos': \"\".join(best_string_pos), 'sen_correct': 1}\n",
        "    if(r > 0):\n",
        "      userdata_new = userdata_new.append(input_sentence, ignore_index=True)\n",
        "    else:\n",
        "      userdata_new = userdata_new.append(input_sentence, ignore_index=True)\n",
        "\n",
        "for i in range(10): #len(sentence_examples)\n",
        "  ## userdata + 추천문장의 평균확률\n",
        "  userdata_list = userdata_new.values.tolist()\n",
        "  userseq = import_file.DKTDef.test(100, userdata_list)\n",
        "  prob = import_file.DKTDef.inference(userseq)\n",
        "\n",
        "print(\"이전 성취도: \", orig_prob)\n",
        "print(\"변화 성취도: \", prob)"
      ],
      "metadata": {
        "colab": {
          "base_uri": "https://localhost:8080/"
        },
        "id": "ZNgkZeCOZOai",
        "outputId": "e775c3dd-0342-4c26-ba00-ce87de154b31"
      },
      "execution_count": null,
      "outputs": [
        {
          "output_type": "stream",
          "name": "stdout",
          "text": [
            "1 번째 추천\n",
            "현재성취도:  61.60551100037992\n",
            "==아래문장을 작문하세요==\n",
            "(예상 상승 성취도 :  7.4785875622183084 %)\n",
            "나는 읽을 시간이 없다\n",
            "==단어 개수에 맞춰 하나씩 입력하세요==\n",
            "[____] [____] [____] [____] [____] [____] [____] [____] \n",
            "I\n",
            "don't\n",
            "have\n",
            "time\n",
            "to\n",
            "read\n",
            "the\n",
            "book\n",
            "정답:  I do not have time for the reading\n",
            "\n",
            "2 번째 추천\n",
            "현재성취도:  55.623493529856205\n",
            "==아래문장을 작문하세요==\n",
            "(예상 상승 성취도 :  10.701532941311598 %)\n",
            "나는 언니에게 편지를 쓰고 싶었다\n",
            "==단어 개수에 맞춰 하나씩 입력하세요==\n",
            "[____] [____] [____] [____] [____] [____] [____] [____] \n",
            "I\n",
            "want\n",
            "to\n",
            "write\n",
            "the\n",
            "letter\n",
            "for\n",
            "sister\n",
            "정답:  I have wanted to write to my sister\n",
            "\n",
            "3 번째 추천\n",
            "현재성취도:  61.09842327423394\n",
            "==아래문장을 작문하세요==\n",
            "(예상 상승 성취도 :  5.79591472633183 %)\n",
            "나는 큰 보트를 타본 적이 없습니다\n",
            "==단어 개수에 맞춰 하나씩 입력하세요==\n",
            "[____] [____] [____] [____] [____] [____] [____] [____] \n",
            "I\n",
            "have\n",
            "never\n",
            "been\n",
            "on\n",
            "a\n",
            "big\n",
            "boat\n",
            "정답:  I have never been on a large boat\n",
            "\n",
            "4 번째 추천\n",
            "현재성취도:  66.2017211318016\n",
            "==아래문장을 작문하세요==\n",
            "(예상 상승 성취도 :  4.022879106923938 %)\n",
            "눈에서 멀어지면 마음에서도 멀어진 다\n",
            "==단어 개수에 맞춰 하나씩 입력하세요==\n",
            "[____] [____] [____] [____] [____] [____] \n",
            "Out\n",
            "of\n",
            "sight,\n",
            "out\n",
            "of\n",
            "mind\n",
            "정답:  Out of sight out of mind\n",
            "\n",
            "5 번째 추천\n",
            "현재성취도:  68.34497111849487\n",
            "==아래문장을 작문하세요==\n",
            "(예상 상승 성취도 :  2.2179795429110527 %)\n",
            "여기에서 큰 가을입니다\n",
            "==단어 개수에 맞춰 하나씩 입력하세요==\n",
            "[____] [____] [____] [____] [____] [____] [____] \n",
            "It\n",
            "is\n",
            "a\n",
            "big\n",
            "fall\n",
            "from\n",
            "here\n",
            "정답:  It is a big fall from here\n",
            "\n",
            "\n",
            "==추천문장 풀이후 성취도 변화==\n",
            "이전 성취도:  61.60551100037992\n",
            "변화 성취도:  70.56295066140592\n"
          ]
        }
      ]
    }
  ],
  "metadata": {
    "colab": {
      "background_execution": "on",
      "collapsed_sections": [],
      "name": "POS_RecommendationSystem_SEKT.ipynb",
      "provenance": []
    },
    "kernelspec": {
      "display_name": "Python 3",
      "name": "python3"
    },
    "language_info": {
      "name": "python"
    }
  },
  "nbformat": 4,
  "nbformat_minor": 0
}